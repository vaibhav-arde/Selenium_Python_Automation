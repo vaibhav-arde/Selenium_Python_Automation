{
 "cells": [
  {
   "cell_type": "markdown",
   "metadata": {},
   "source": [
    "# ** Selenium Python Framework Implementation**\n",
    "\n",
    "- Standard of writing selenium tests in framework\n",
    "- Creating browser invocation Fixtures in confest.py\n",
    "- Setting up base class to hold all common Utilities\n",
    "- Inheriting Base class to all tests to remove fixture redundant Code\n",
    "- Passing command line options to select browser at run time\n",
    "- Implementing page object mechanism\n",
    "- Smarter way of returning page objects from navigation methods\n",
    "- Creating selenium webdriver custom utilities in base class\n",
    "- Parameterising webdriver tests with multiple data sets\n",
    "- Organizing data from separate data files and injecting into fixture at run time\n",
    "- Implementing logging feature to webdriver tests \n",
    "- Text execution HTML reporting\n",
    "- Automatic screenshot capture on test failures\n",
    "- Integrating selenium python framework to jenkins CI tool with jenkin build Parameterization\n",
    "- Github basics for project version control\n"
   ]
  }
 ],
 "metadata": {
  "language_info": {
   "name": "python"
  }
 },
 "nbformat": 4,
 "nbformat_minor": 2
}
