{
 "cells": [
  {
   "cell_type": "code",
   "execution_count": 1,
   "metadata": {},
   "outputs": [
    {
     "name": "stdout",
     "output_type": "stream",
     "text": [
      "[NbConvertApp] Converting notebook ./Notes/Automation_Logging_and_HTML_Reports_Notes.ipynb to html\n",
      "[NbConvertApp] Writing 296622 bytes to Notes/Automation_Logging_and_HTML_Reports_Notes.html\n"
     ]
    }
   ],
   "source": [
    "!jupyter nbconvert './Notes/Automation_Logging_and_HTML_Reports_Notes.ipynb' --to html"
   ]
  },
  {
   "cell_type": "code",
   "execution_count": 2,
   "metadata": {},
   "outputs": [
    {
     "name": "stdout",
     "output_type": "stream",
     "text": [
      "[NbConvertApp] Converting notebook ./Notes/Automation_PyTest_Notes.ipynb to html\n",
      "[NbConvertApp] Writing 350202 bytes to Notes/Automation_PyTest_Notes.html\n"
     ]
    }
   ],
   "source": [
    "!jupyter nbconvert './Notes/Automation_PyTest_Notes.ipynb' --to html"
   ]
  },
  {
   "cell_type": "code",
   "execution_count": 4,
   "metadata": {},
   "outputs": [
    {
     "name": "stdout",
     "output_type": "stream",
     "text": [
      "[NbConvertApp] Converting notebook ./Notes/Automation_Selenium_Notes.ipynb to html\n",
      "[NbConvertApp] Writing 420312 bytes to Notes/Automation_Selenium_Notes.html\n"
     ]
    }
   ],
   "source": [
    "!jupyter nbconvert './Notes/Automation_Selenium_Notes.ipynb' --to html"
   ]
  }
 ],
 "metadata": {
  "kernelspec": {
   "display_name": ".venv",
   "language": "python",
   "name": "python3"
  },
  "language_info": {
   "codemirror_mode": {
    "name": "ipython",
    "version": 3
   },
   "file_extension": ".py",
   "mimetype": "text/x-python",
   "name": "python",
   "nbconvert_exporter": "python",
   "pygments_lexer": "ipython3",
   "version": "3.10.0"
  }
 },
 "nbformat": 4,
 "nbformat_minor": 2
}
