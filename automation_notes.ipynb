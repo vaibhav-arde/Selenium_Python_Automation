{
 "cells": [
  {
   "cell_type": "markdown",
   "metadata": {},
   "source": [
    "# PYTHON TESTING WITH Selenium + Framework Design\n",
    "\n",
    "### Why Python for Automation testing?\n",
    "\n",
    "- It is easy to learn and understand, simpler to code\n",
    "- World is moving towards Artificial Intelligence with Machine learning, and Python plays a crucial role in implementing them.\n",
    "- More jobs, Less competition\n",
    "\n",
    "### Selenium WebDriver\n",
    "- Open source Tool to automates web applications\n",
    "- Selenium can be coded in multiple languages- Java, Python, Javascript, C#, Ruby etc.\n",
    "- FAQ: | already aware of Selenium -Java. Should I consider learning Selenium Python?\n",
    "### Course Prerequisites:\n",
    "- This course assumes you do not have any prior knowledge in Python or Selenium. Every topic\n",
    "- including Python Programming is taught from scratch with real-time examples\n",
    "### How this Course is Organized?\n",
    "- Python Basics - Module 1              - 30%\n",
    "- Selenium using Python - Module 2      - 40%\n",
    "- Python Frameworks - Module 3          - 30%\n"
   ]
  },
  {
   "cell_type": "markdown",
   "metadata": {},
   "source": [
    "## Glance on Selenium Features\n",
    "**Selenium Features**\n",
    "- Selenium is open Source Automation Testing tool\n",
    "- It is exclusively for Web Based applications.\n",
    "- Selenium supports multiple browsers - Chrome, Firefox, Internet Explorer, Safari\n",
    "- Selenium works with Multiple Platforms Windows, Apple OS X, Linux\n",
    "- Selenium can be coded in multiple languages - Java, C#, Python, Javascript, Python, php,Ruby"
   ]
  },
  {
   "cell_type": "markdown",
   "metadata": {},
   "source": [
    "## Instructions for Setting up Python and Selenium\n",
    "\n",
    "- Install python.exe from their official website: https://www.python.org/downloads/\n",
    "  \n",
    "- Make sure you note Python Installation path on your machine. \n",
    "    - It should be similar to: C:\\Users\\(Your logged in User)\\AppData\\Local\\Programs\\Python\\PythonXX\n",
    "- Set Python home in System Variables\n",
    "\n",
    "- Check if Python is Successfully Installed: `python --version`"
   ]
  },
  {
   "cell_type": "markdown",
   "metadata": {},
   "source": [
    "### Python in mac:\n",
    "persent at : /Library/Frameworks/Python.framework/Versions/3.12/bin"
   ]
  },
  {
   "cell_type": "markdown",
   "metadata": {},
   "source": [
    "### What is PIP?\n",
    "pip is the standard package manager for Python. It allows you to install and manage additional packages that are not part of the Python standard library.\n",
    "\n",
    "\n",
    "### Selenium installing instructions official link\n",
    "https://pypi.org/project/selenium/\n",
    "\n",
    "`pip install selenium`\n",
    "\n",
    "This command will set up the Selenium WebDriver client library on your machine with all modules and classes that we will need to create automated scripts using Python\n",
    "\n",
    "`pip install -U selenium`\n",
    "\n",
    "The optional –U flag will upgrade the existing version of the installed package"
   ]
  },
  {
   "cell_type": "markdown",
   "metadata": {},
   "source": []
  },
  {
   "cell_type": "code",
   "execution_count": 15,
   "metadata": {},
   "outputs": [],
   "source": []
  },
  {
   "cell_type": "code",
   "execution_count": null,
   "metadata": {},
   "outputs": [],
   "source": []
  }
 ],
 "metadata": {
  "kernelspec": {
   "display_name": "Python 3",
   "language": "python",
   "name": "python3"
  },
  "language_info": {
   "codemirror_mode": {
    "name": "ipython",
    "version": 3
   },
   "file_extension": ".py",
   "mimetype": "text/x-python",
   "name": "python",
   "nbconvert_exporter": "python",
   "pygments_lexer": "ipython3",
   "version": "3.12.5"
  }
 },
 "nbformat": 4,
 "nbformat_minor": 2
}
