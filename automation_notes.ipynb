{
 "cells": [
  {
   "cell_type": "markdown",
   "metadata": {},
   "source": [
    "# PYTHON TESTING WITH Selenium + Framework Design\n",
    "\n",
    "### Why Python for Automation testing?\n",
    "\n",
    "- It is easy to learn and understand, simpler to code\n",
    "- World is moving towards Artificial Intelligence with Machine learning, and Python plays a crucial role in implementing them.\n",
    "- More jobs, Less competition\n",
    "\n",
    "### Selenium WebDriver\n",
    "- Open source Tool to automates web applications\n",
    "- Selenium can be coded in multiple languages- Java, Python, Javascript, C#, Ruby etc.\n",
    "- FAQ: | already aware of Selenium -Java. Should I consider learning Selenium Python?\n",
    "### Course Prerequisites:\n",
    "- This course assumes you do not have any prior knowledge in Python or Selenium. Every topic\n",
    "- including Python Programming is taught from scratch with real-time examples\n",
    "### How this Course is Organized?\n",
    "- Python Basics - Module 1              - 30%\n",
    "- Selenium using Python - Module 2      - 40%\n",
    "- Python Frameworks - Module 3          - 30%\n"
   ]
  },
  {
   "cell_type": "markdown",
   "metadata": {},
   "source": [
    "## Glance on Selenium Features\n",
    "**Selenium Features**\n",
    "- Selenium is open Source Automation Testing tool\n",
    "- It is exclusively for Web Based applications.\n",
    "- Selenium supports multiple browsers - Chrome, Firefox, Internet Explorer, Safari\n",
    "- Selenium works with Multiple Platforms Windows, Apple OS X, Linux\n",
    "- Selenium can be coded in multiple languages - Java, C#, Python, Javascript, Python, php,Ruby"
   ]
  },
  {
   "cell_type": "markdown",
   "metadata": {},
   "source": [
    "## Instructions for Setting up Python and Selenium\n",
    "\n",
    "- Install python.exe from their official website: https://www.python.org/downloads/\n",
    "  \n",
    "- Make sure you note Python Installation path on your machine. \n",
    "    - It should be similar to: C:\\Users\\(Your logged in User)\\AppData\\Local\\Programs\\Python\\PythonXX\n",
    "- Set Python home in System Variables\n",
    "\n",
    "- Check if Python is Successfully Installed: `python --version`"
   ]
  },
  {
   "cell_type": "markdown",
   "metadata": {},
   "source": [
    "### Python in mac:\n",
    "persent at : /Library/Frameworks/Python.framework/Versions/3.12/bin"
   ]
  },
  {
   "cell_type": "markdown",
   "metadata": {},
   "source": [
    "### What is PIP?\n",
    "pip is the standard package manager for Python. It allows you to install and manage additional packages that are not part of the Python standard library.\n",
    "\n",
    "\n",
    "### Selenium installing instructions official link\n",
    "https://pypi.org/project/selenium/\n",
    "\n",
    "`pip install selenium`\n",
    "\n",
    "This command will set up the Selenium WebDriver client library on your machine with all modules and classes that we will need to create automated scripts using Python\n",
    "\n",
    "`pip install -U selenium`\n",
    "\n",
    "The optional –U flag will upgrade the existing version of the installed package"
   ]
  },
  {
   "cell_type": "markdown",
   "metadata": {},
   "source": [
    "## Reasons Why ChromeDriver Checks Browser Version:\n",
    "### How It Works:\n",
    "- Version Check:\n",
    "    - When your Selenium script starts, it checks the version of the installed Chrome browser.\n",
    "- Download Matching ChromeDriver:\n",
    "    - If the correct version of ChromeDriver isn't installed, Selenium can download the appropriate version from the official ChromeDriver site.\n",
    "- Installation:\n",
    "    - The downloaded ChromeDriver is then installed locally and used for the Selenium session.\n",
    "\n",
    "This process ensures that your browser automation runs smoothly and without issues caused by version mismatches."
   ]
  },
  {
   "cell_type": "markdown",
   "metadata": {},
   "source": [
    "### In many organisation download of chroem driver is not allowed hence test fails so we can use chromedriver\n",
    "\n",
    "service_obj = Service('/Users/vaibhavarde/Desktop/TestAutomation/Selenium_Python_Automation/01_Invoke_chrome_browser/chromedriver-mac-arm64/chromedriver') \n",
    "\n",
    "driver = webdriver.Chrome(service = service_obj)\n",
    "\n",
    "driver.get(\"https://google.com\")"
   ]
  },
  {
   "cell_type": "code",
   "execution_count": null,
   "metadata": {},
   "outputs": [],
   "source": [
    "import time\n",
    "from selenium import webdriver\n",
    "from selenium.webdriver.chrome.service import Service\n",
    "# Chrome driver service - selenium will check current version of browser and same version of chrome driver will be downloaded from net and install in local machine\n",
    "\n",
    "# In many organisation download of chroem driver is not allowed hence test fails so we can use chromedriver\n",
    "\n",
    "# service_obj = Service('/Users/vaibhavarde/Desktop/TestAutomation/Selenium_Python_Automation/01_Invoke_chrome_browser/chromedriver-mac-arm64/chromedriver') \n",
    "# driver = webdriver.Chrome(service = service_obj)\n",
    "\n",
    "driver = webdriver.Chrome()\n",
    "\n",
    "driver.get(\"https://google.com\")\n",
    "\n",
    "print(driver.title)\n",
    "print(driver.current_url)\n",
    "\n",
    "time.sleep(2)"
   ]
  },
  {
   "cell_type": "code",
   "execution_count": null,
   "metadata": {},
   "outputs": [],
   "source": [
    "import time\n",
    "from selenium import webdriver\n",
    "\n",
    "driver = webdriver.Chrome()\n",
    "# driver = webdriver.Firefox()\n",
    "# driver = webdriver.Edge()\n",
    "\n",
    "driver.get(\"https://google.com\")\n",
    "\n",
    "print(driver.title)\n",
    "print(driver.current_url)\n",
    "\n",
    "time.sleep(2)"
   ]
  }
 ],
 "metadata": {
  "kernelspec": {
   "display_name": "Python 3",
   "language": "python",
   "name": "python3"
  },
  "language_info": {
   "codemirror_mode": {
    "name": "ipython",
    "version": 3
   },
   "file_extension": ".py",
   "mimetype": "text/x-python",
   "name": "python",
   "nbconvert_exporter": "python",
   "pygments_lexer": "ipython3",
   "version": "3.10.14"
  }
 },
 "nbformat": 4,
 "nbformat_minor": 2
}
